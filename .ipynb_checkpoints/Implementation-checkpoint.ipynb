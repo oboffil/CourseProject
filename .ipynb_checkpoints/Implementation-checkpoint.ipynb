{
 "cells": [
  {
   "cell_type": "code",
   "execution_count": null,
   "metadata": {},
   "outputs": [],
   "source": [
    "# In case you need to update your anaconda run this code\n",
    "# Delete all comment before running the code\n",
    "conda update -n base -c defaults conda"
   ]
  },
  {
   "cell_type": "code",
   "execution_count": null,
   "metadata": {},
   "outputs": [],
   "source": [
    "# This will install all packages and toolkit for Metapy.\n",
    "# Change \"Metapy_env\" for your environment name if you used a different name\n",
    "# The textfile \"package-list.txt\" needs to be in the same directory as this file\n",
    "# Delete all comment before running the code\n",
    "conda install --name Metapy_env --file package-list.txt"
   ]
  },
  {
   "cell_type": "code",
   "execution_count": null,
   "metadata": {},
   "outputs": [],
   "source": [
    "# This code will install metapy\n",
    "# Delete all comment before running the code\n",
    "pip install metapy"
   ]
  },
  {
   "cell_type": "code",
   "execution_count": null,
   "metadata": {},
   "outputs": [],
   "source": [
    "# This code will install pytoml \n",
    "# Delete all comment before running the code\n",
    "pip install pytoml"
   ]
  },
  {
   "cell_type": "code",
   "execution_count": null,
   "metadata": {},
   "outputs": [],
   "source": [
    "# This code will install numpy\n",
    "# Delete all comment before running the code\n",
    "pip install numpy"
   ]
  },
  {
   "cell_type": "code",
   "execution_count": null,
   "metadata": {},
   "outputs": [],
   "source": [
    "# Import the libraries to ensure the process\n",
    "# Delete all comment before running the code\n",
    "import metapy\n",
    "import pytoml\n",
    "import numpy"
   ]
  },
  {
   "cell_type": "code",
   "execution_count": null,
   "metadata": {},
   "outputs": [],
   "source": [
    "# NOTE* if you get an error trying to run the code directly from the file, go back to the directory, \n",
    "# create a new Python 3 and copy and paste the code into the newly created file. \n",
    "# Just make sure this new file is in the same directory as the package-list.txt.\n",
    "# Remember to delete all comments in each row before running the code"
   ]
  }
 ],
 "metadata": {
  "kernelspec": {
   "display_name": "Python 3",
   "language": "python",
   "name": "python3"
  },
  "language_info": {
   "codemirror_mode": {
    "name": "ipython",
    "version": 3
   },
   "file_extension": ".py",
   "mimetype": "text/x-python",
   "name": "python",
   "nbconvert_exporter": "python",
   "pygments_lexer": "ipython3",
   "version": "3.8.3"
  }
 },
 "nbformat": 4,
 "nbformat_minor": 4
}
